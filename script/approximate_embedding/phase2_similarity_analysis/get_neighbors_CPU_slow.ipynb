{
 "cells": [
  {
   "cell_type": "code",
   "execution_count": null,
   "metadata": {},
   "outputs": [],
   "source": [
    "from csvReader import read_table\n",
    "\n",
    "arrOfNpArr, arrOfLen = read_table(26)"
   ]
  },
  {
   "cell_type": "code",
   "execution_count": null,
   "metadata": {},
   "outputs": [],
   "source": [
    "cumsum = arrOfLen.copy()\n",
    "for i in range(1, len(cumsum)):\n",
    "    cumsum[i] += cumsum[i-1]\n",
    "\n",
    "print(arrOfLen)\n",
    "print(cumsum)"
   ]
  },
  {
   "cell_type": "code",
   "execution_count": null,
   "metadata": {},
   "outputs": [],
   "source": [
    "from sklearn.neighbors import NearestNeighbors"
   ]
  },
  {
   "cell_type": "code",
   "execution_count": null,
   "metadata": {},
   "outputs": [],
   "source": [
    "nbrs = NearestNeighbors(n_neighbors=11, algorithm='ball_tree', n_jobs=-1).fit(arrOfNpArr)"
   ]
  },
  {
   "cell_type": "code",
   "execution_count": null,
   "metadata": {},
   "outputs": [],
   "source": [
    "def tableRow(x):\n",
    "    for i in range(len(cumsum)):\n",
    "        if cumsum[i]>x:\n",
    "            if i>0:\n",
    "                return i+1,x-cumsum[i-1]\n",
    "            else:\n",
    "                return 1, x\n",
    "    return len(cumsum), x-cumsum[-1]"
   ]
  },
  {
   "cell_type": "code",
   "execution_count": null,
   "metadata": {},
   "outputs": [],
   "source": [
    "for i in range(len(arrOfLen)):\n",
    "    csvName =\"./\"+\"sklearn/\" +\"ev-table-\"+str(i+1) +\".csv\"\n",
    "    csvfile = open(csvName, \"w\")\n",
    "    start = 0 if i==0 else cumsum[i-1]\n",
    "    indices = nbrs.kneighbors(arrOfNpArr[start:cumsum[i]], return_distance=False)\n",
    "    print(\"Writing table\", i+1)\n",
    "    for j in range(len(indices)):\n",
    "        ta,ra = tableRow(indices[j][0])\n",
    "        t1,r1 = tableRow(indices[j][1])\n",
    "        t2,r2 = tableRow(indices[j][2])\n",
    "        t3,r3 = tableRow(indices[j][3])\n",
    "        t4,r4 = tableRow(indices[j][4])\n",
    "        t5,r5 = tableRow(indices[j][5])\n",
    "        t6,r6 = tableRow(indices[j][6])\n",
    "        t7,r7 = tableRow(indices[j][7])\n",
    "        t8,r8 = tableRow(indices[j][8])\n",
    "        t9,r9 = tableRow(indices[j][9])\n",
    "        t10,r10 = tableRow(indices[j][10])\n",
    "        csvfile.write(str(t1)+\"-\"+str(r1)+\",\"+str(t2)+\"-\"+str(r2)+\",\"+str(t3)+\"-\"+str(r3)+\",\"+str(t4)+\"-\"+str(r4)+\",\"+str(t5)+\"-\"+str(r5)+\",\"+str(t6)+\"-\"+str(r6)+\",\"+str(t7)+\"-\"+str(r7)+\",\"+str(t8)+\"-\"+str(r8)+\",\"+str(t9)+\"-\"+str(r9)+\",\"+str(t10)+\"-\"+str(r10)+\"\\n\")\n",
    "    csvfile.close()"
   ]
  }
 ],
 "metadata": {
  "interpreter": {
   "hash": "72058e4688fcceb4d5ed82b60d0f805f4f94c9a6644c87830f9cd7ee14abc142"
  },
  "kernelspec": {
   "display_name": "Python 3.9.12 ('ev-store-pyrocks-env')",
   "language": "python",
   "name": "python3"
  },
  "language_info": {
   "codemirror_mode": {
    "name": "ipython",
    "version": 3
   },
   "file_extension": ".py",
   "mimetype": "text/x-python",
   "name": "python",
   "nbconvert_exporter": "python",
   "pygments_lexer": "ipython3",
   "version": "3.9.12"
  },
  "orig_nbformat": 4
 },
 "nbformat": 4,
 "nbformat_minor": 2
}
