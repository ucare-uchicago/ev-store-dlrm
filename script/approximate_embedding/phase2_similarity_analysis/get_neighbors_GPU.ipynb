{
 "cells": [
  {
   "cell_type": "code",
   "execution_count": 1,
   "metadata": {},
   "outputs": [
    {
     "name": "stdout",
     "output_type": "stream",
     "text": [
      "Processing ../../../stored_model/criteo_kaggle_all/epoch-00/ev-table/ev-table-1.csv\n",
      "Processing ../../../stored_model/criteo_kaggle_all/epoch-00/ev-table/ev-table-2.csv\n",
      "Processing ../../../stored_model/criteo_kaggle_all/epoch-00/ev-table/ev-table-3.csv\n",
      "Processing ../../../stored_model/criteo_kaggle_all/epoch-00/ev-table/ev-table-4.csv\n",
      "Processing ../../../stored_model/criteo_kaggle_all/epoch-00/ev-table/ev-table-5.csv\n",
      "Processing ../../../stored_model/criteo_kaggle_all/epoch-00/ev-table/ev-table-6.csv\n",
      "Processing ../../../stored_model/criteo_kaggle_all/epoch-00/ev-table/ev-table-7.csv\n",
      "Processing ../../../stored_model/criteo_kaggle_all/epoch-00/ev-table/ev-table-8.csv\n",
      "Processing ../../../stored_model/criteo_kaggle_all/epoch-00/ev-table/ev-table-9.csv\n",
      "Processing ../../../stored_model/criteo_kaggle_all/epoch-00/ev-table/ev-table-10.csv\n",
      "Processing ../../../stored_model/criteo_kaggle_all/epoch-00/ev-table/ev-table-11.csv\n",
      "Processing ../../../stored_model/criteo_kaggle_all/epoch-00/ev-table/ev-table-12.csv\n",
      "Processing ../../../stored_model/criteo_kaggle_all/epoch-00/ev-table/ev-table-13.csv\n",
      "Processing ../../../stored_model/criteo_kaggle_all/epoch-00/ev-table/ev-table-14.csv\n",
      "Processing ../../../stored_model/criteo_kaggle_all/epoch-00/ev-table/ev-table-15.csv\n",
      "Processing ../../../stored_model/criteo_kaggle_all/epoch-00/ev-table/ev-table-16.csv\n",
      "Processing ../../../stored_model/criteo_kaggle_all/epoch-00/ev-table/ev-table-17.csv\n",
      "Processing ../../../stored_model/criteo_kaggle_all/epoch-00/ev-table/ev-table-18.csv\n",
      "Processing ../../../stored_model/criteo_kaggle_all/epoch-00/ev-table/ev-table-19.csv\n",
      "Processing ../../../stored_model/criteo_kaggle_all/epoch-00/ev-table/ev-table-20.csv\n",
      "Processing ../../../stored_model/criteo_kaggle_all/epoch-00/ev-table/ev-table-21.csv\n",
      "Processing ../../../stored_model/criteo_kaggle_all/epoch-00/ev-table/ev-table-22.csv\n",
      "Processing ../../../stored_model/criteo_kaggle_all/epoch-00/ev-table/ev-table-23.csv\n",
      "Processing ../../../stored_model/criteo_kaggle_all/epoch-00/ev-table/ev-table-24.csv\n",
      "Processing ../../../stored_model/criteo_kaggle_all/epoch-00/ev-table/ev-table-25.csv\n",
      "Processing ../../../stored_model/criteo_kaggle_all/epoch-00/ev-table/ev-table-26.csv\n",
      "(33762577, 36)\n"
     ]
    }
   ],
   "source": [
    "from csvReader import read_table\n",
    "\n",
    "arrOfNpArr, arrOfLen = read_table(26)"
   ]
  },
  {
   "cell_type": "code",
   "execution_count": 2,
   "metadata": {},
   "outputs": [
    {
     "name": "stdout",
     "output_type": "stream",
     "text": [
      "[1460, 583, 10131227, 2202608, 305, 24, 12517, 633, 3, 93145, 5683, 8351593, 3194, 27, 14992, 5461306, 10, 5652, 2173, 4, 7046547, 18, 15, 286181, 105, 142572]\n",
      "[1460, 2043, 10133270, 12335878, 12336183, 12336207, 12348724, 12349357, 12349360, 12442505, 12448188, 20799781, 20802975, 20803002, 20817994, 26279300, 26279310, 26284962, 26287135, 26287139, 33333686, 33333704, 33333719, 33619900, 33620005, 33762577]\n"
     ]
    }
   ],
   "source": [
    "cumsum = arrOfLen.copy()\n",
    "for i in range(1, len(cumsum)):\n",
    "    cumsum[i] += cumsum[i-1]\n",
    "\n",
    "print(arrOfLen)\n",
    "print(cumsum)"
   ]
  },
  {
   "cell_type": "code",
   "execution_count": 3,
   "metadata": {},
   "outputs": [],
   "source": [
    "from cuml.neighbors import NearestNeighbors"
   ]
  },
  {
   "cell_type": "code",
   "execution_count": 4,
   "metadata": {},
   "outputs": [],
   "source": [
    "# It is possible to change the distance metric and the algorithm.\n",
    "nbrs = NearestNeighbors(n_neighbors=11, algorithm='brute', verbose=True, metric='euclidean').fit(arrOfNpArr)"
   ]
  },
  {
   "cell_type": "code",
   "execution_count": 5,
   "metadata": {},
   "outputs": [],
   "source": [
    "def tableRow(x):\n",
    "    for i in range(len(cumsum)):\n",
    "        if cumsum[i]>x:\n",
    "            if i>0:\n",
    "                return i+1,x-cumsum[i-1]\n",
    "            else:\n",
    "                return 1, x\n",
    "    return len(cumsum), x-cumsum[-1]"
   ]
  },
  {
   "cell_type": "code",
   "execution_count": 6,
   "metadata": {},
   "outputs": [
    {
     "name": "stdout",
     "output_type": "stream",
     "text": [
      "Writing table 1\n"
     ]
    }
   ],
   "source": [
    "for i in range(0, len(arrOfLen)):\n",
    "    csvName =\"./\"+\"cuml/\" +\"ev-table-\"+str(i+1) +\".csv\"\n",
    "    csvfile = open(csvName, \"w\")\n",
    "    start = 0 if i==0 else cumsum[i-1]\n",
    "    indices = nbrs.kneighbors(arrOfNpArr[start:cumsum[i]], return_distance=False)\n",
    "    print(\"Writing table\", i+1)\n",
    "    for j in range(len(indices)):\n",
    "        ta,ra = tableRow(indices[j][0])\n",
    "        t1,r1 = tableRow(indices[j][1])\n",
    "        t2,r2 = tableRow(indices[j][2])\n",
    "        t3,r3 = tableRow(indices[j][3])\n",
    "        t4,r4 = tableRow(indices[j][4])\n",
    "        t5,r5 = tableRow(indices[j][5])\n",
    "        t6,r6 = tableRow(indices[j][6])\n",
    "        t7,r7 = tableRow(indices[j][7])\n",
    "        t8,r8 = tableRow(indices[j][8])\n",
    "        t9,r9 = tableRow(indices[j][9])\n",
    "        t10,r10 = tableRow(indices[j][10])\n",
    "        csvfile.write(str(t1)+\"-\"+str(r1)+\",\"+str(t2)+\"-\"+str(r2)+\",\"+str(t3)+\"-\"+str(r3)+\",\"+str(t4)+\"-\"+str(r4)+\",\"+str(t5)+\"-\"+str(r5)+\",\"+str(t6)+\"-\"+str(r6)+\",\"+str(t7)+\"-\"+str(r7)+\",\"+str(t8)+\"-\"+str(r8)+\",\"+str(t9)+\"-\"+str(r9)+\",\"+str(t10)+\"-\"+str(r10)+\"\\n\")\n",
    "    csvfile.close()"
   ]
  }
 ],
 "metadata": {
  "interpreter": {
   "hash": "72058e4688fcceb4d5ed82b60d0f805f4f94c9a6644c87830f9cd7ee14abc142"
  },
  "kernelspec": {
   "display_name": "Python 3.9.12 ('ev-store-pyrocks-env')",
   "language": "python",
   "name": "python3"
  },
  "language_info": {
   "codemirror_mode": {
    "name": "ipython",
    "version": 3
   },
   "file_extension": ".py",
   "mimetype": "text/x-python",
   "name": "python",
   "nbconvert_exporter": "python",
   "pygments_lexer": "ipython3",
   "version": "3.9.12"
  },
  "orig_nbformat": 4
 },
 "nbformat": 4,
 "nbformat_minor": 2
}
