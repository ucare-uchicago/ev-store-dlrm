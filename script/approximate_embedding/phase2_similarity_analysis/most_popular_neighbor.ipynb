{
 "cells": [
  {
   "cell_type": "code",
   "execution_count": 1,
   "metadata": {},
   "outputs": [],
   "source": [
    "import csv\n",
    "import numpy as np\n",
    "\n",
    "rankDict = {}\n",
    "with open(\"rankedWorkload.csv\") as csv_file:\n",
    "    csv_reader = csv.reader(csv_file, delimiter=',')\n",
    "    line_count = 0\n",
    "    for row in csv_reader:\n",
    "        if line_count != 0:\n",
    "            rankDict[row[0]]=int(row[1])\n",
    "        line_count+=1"
   ]
  },
  {
   "cell_type": "code",
   "execution_count": 2,
   "metadata": {},
   "outputs": [
    {
     "name": "stdout",
     "output_type": "stream",
     "text": [
      "Processing ./cuml/ev-table-1.csv\n"
     ]
    }
   ],
   "source": [
    "# Use Dict\n",
    "fileNames = []\n",
    "resName = []\n",
    "for i in range(1, 27):\n",
    "    fileNames.append(\"./cuml/\"+\"ev-table-\" + str(i) + \".csv\")\n",
    "    resName.append(\"./popular/\"+\"ev-table-\" + str(i) + \".csv\")\n",
    "\n",
    "for i in range(0, 26):\n",
    "    print(\"Processing\", fileNames[i])\n",
    "    csv_file = open(fileNames[i])\n",
    "    res_file = open(resName[i], \"w\")\n",
    "    csv_reader = csv.reader(csv_file, delimiter=',')\n",
    "    for row in csv_reader:\n",
    "        freqArr = []\n",
    "        \n",
    "        for col in row:\n",
    "            frequency = rankDict.get(col)\n",
    "            if frequency is None:\n",
    "                freqArr.append(0)\n",
    "            else:\n",
    "                freqArr.append(frequency)\n",
    "        \n",
    "        max_value = max(freqArr)\n",
    "        max_idx = freqArr.index(max_value)\n",
    "        res_file.write(str(row[max_idx])+\"\\n\")\n",
    "            \n",
    "    csv_file.close()\n",
    "    res_file.close()"
   ]
  },
  {
   "cell_type": "code",
   "execution_count": null,
   "metadata": {},
   "outputs": [],
   "source": []
  }
 ],
 "metadata": {
  "interpreter": {
   "hash": "72058e4688fcceb4d5ed82b60d0f805f4f94c9a6644c87830f9cd7ee14abc142"
  },
  "kernelspec": {
   "display_name": "Python 3.9.12 ('ev-store-pyrocks-env')",
   "language": "python",
   "name": "python3"
  },
  "language_info": {
   "codemirror_mode": {
    "name": "ipython",
    "version": 3
   },
   "file_extension": ".py",
   "mimetype": "text/x-python",
   "name": "python",
   "nbconvert_exporter": "python",
   "pygments_lexer": "ipython3",
   "version": "3.9.12"
  },
  "orig_nbformat": 4
 },
 "nbformat": 4,
 "nbformat_minor": 2
}
